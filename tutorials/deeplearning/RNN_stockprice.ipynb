{
  "nbformat": 4,
  "nbformat_minor": 0,
  "metadata": {
    "colab": {
      "name": "RNN Tutorial.ipynb",
      "provenance": [],
      "collapsed_sections": [],
      "authorship_tag": "ABX9TyNvUO0ouCT32p3kB19FMFS8",
      "include_colab_link": true
    },
    "kernelspec": {
      "name": "python3",
      "display_name": "Python 3"
    },
    "language_info": {
      "name": "python"
    }
  },
  "cells": [
    {
      "cell_type": "markdown",
      "metadata": {
        "id": "view-in-github",
        "colab_type": "text"
      },
      "source": [
        "<a href=\"https://colab.research.google.com/github/yForecasting/intro_python/blob/main/tutorials/deeplearning/RNN_stockprice.ipynb\" target=\"_parent\"><img src=\"https://colab.research.google.com/assets/colab-badge.svg\" alt=\"Open In Colab\"/></a>"
      ]
    },
    {
      "cell_type": "markdown",
      "source": [
        "# RNN tutorial"
      ],
      "metadata": {
        "id": "H1bGDMdpiVsQ"
      }
    },
    {
      "cell_type": "markdown",
      "source": [
        "## Data Reading"
      ],
      "metadata": {
        "id": "RXMaiPZNmBKi"
      }
    },
    {
      "cell_type": "code",
      "source": [
        "import numpy as np\n",
        "import matplotlib.pyplot as plt\n",
        "import pandas as pd"
      ],
      "metadata": {
        "id": "Z-gJOMegmFYp"
      },
      "execution_count": null,
      "outputs": []
    },
    {
      "cell_type": "code",
      "source": [
        "train = pd.read_csv(\"Google_Stock_Price_Train.csv\")"
      ],
      "metadata": {
        "id": "A8Cu8-zKmQ4q"
      },
      "execution_count": null,
      "outputs": []
    },
    {
      "cell_type": "code",
      "source": [
        "train.head()"
      ],
      "metadata": {
        "colab": {
          "base_uri": "https://localhost:8080/",
          "height": 206
        },
        "id": "nhgpfWtzm0sy",
        "outputId": "c2302e52-b443-441a-9987-3b46989ecfc6"
      },
      "execution_count": null,
      "outputs": [
        {
          "output_type": "execute_result",
          "data": {
            "text/plain": [
              "       Date    Open    High     Low   Close      Volume\n",
              "0  1/3/2012  325.25  332.83  324.97  663.59   7,380,500\n",
              "1  1/4/2012  331.27  333.87  329.08  666.45   5,749,400\n",
              "2  1/5/2012  329.83  330.75  326.89  657.21   6,590,300\n",
              "3  1/6/2012  328.34  328.77  323.68  648.24   5,405,900\n",
              "4  1/9/2012  322.04  322.29  309.46  620.76  11,688,800"
            ],
            "text/html": [
              "\n",
              "  <div id=\"df-7d050674-7099-4f37-b520-d2a5ea5120dc\">\n",
              "    <div class=\"colab-df-container\">\n",
              "      <div>\n",
              "<style scoped>\n",
              "    .dataframe tbody tr th:only-of-type {\n",
              "        vertical-align: middle;\n",
              "    }\n",
              "\n",
              "    .dataframe tbody tr th {\n",
              "        vertical-align: top;\n",
              "    }\n",
              "\n",
              "    .dataframe thead th {\n",
              "        text-align: right;\n",
              "    }\n",
              "</style>\n",
              "<table border=\"1\" class=\"dataframe\">\n",
              "  <thead>\n",
              "    <tr style=\"text-align: right;\">\n",
              "      <th></th>\n",
              "      <th>Date</th>\n",
              "      <th>Open</th>\n",
              "      <th>High</th>\n",
              "      <th>Low</th>\n",
              "      <th>Close</th>\n",
              "      <th>Volume</th>\n",
              "    </tr>\n",
              "  </thead>\n",
              "  <tbody>\n",
              "    <tr>\n",
              "      <th>0</th>\n",
              "      <td>1/3/2012</td>\n",
              "      <td>325.25</td>\n",
              "      <td>332.83</td>\n",
              "      <td>324.97</td>\n",
              "      <td>663.59</td>\n",
              "      <td>7,380,500</td>\n",
              "    </tr>\n",
              "    <tr>\n",
              "      <th>1</th>\n",
              "      <td>1/4/2012</td>\n",
              "      <td>331.27</td>\n",
              "      <td>333.87</td>\n",
              "      <td>329.08</td>\n",
              "      <td>666.45</td>\n",
              "      <td>5,749,400</td>\n",
              "    </tr>\n",
              "    <tr>\n",
              "      <th>2</th>\n",
              "      <td>1/5/2012</td>\n",
              "      <td>329.83</td>\n",
              "      <td>330.75</td>\n",
              "      <td>326.89</td>\n",
              "      <td>657.21</td>\n",
              "      <td>6,590,300</td>\n",
              "    </tr>\n",
              "    <tr>\n",
              "      <th>3</th>\n",
              "      <td>1/6/2012</td>\n",
              "      <td>328.34</td>\n",
              "      <td>328.77</td>\n",
              "      <td>323.68</td>\n",
              "      <td>648.24</td>\n",
              "      <td>5,405,900</td>\n",
              "    </tr>\n",
              "    <tr>\n",
              "      <th>4</th>\n",
              "      <td>1/9/2012</td>\n",
              "      <td>322.04</td>\n",
              "      <td>322.29</td>\n",
              "      <td>309.46</td>\n",
              "      <td>620.76</td>\n",
              "      <td>11,688,800</td>\n",
              "    </tr>\n",
              "  </tbody>\n",
              "</table>\n",
              "</div>\n",
              "      <button class=\"colab-df-convert\" onclick=\"convertToInteractive('df-7d050674-7099-4f37-b520-d2a5ea5120dc')\"\n",
              "              title=\"Convert this dataframe to an interactive table.\"\n",
              "              style=\"display:none;\">\n",
              "        \n",
              "  <svg xmlns=\"http://www.w3.org/2000/svg\" height=\"24px\"viewBox=\"0 0 24 24\"\n",
              "       width=\"24px\">\n",
              "    <path d=\"M0 0h24v24H0V0z\" fill=\"none\"/>\n",
              "    <path d=\"M18.56 5.44l.94 2.06.94-2.06 2.06-.94-2.06-.94-.94-2.06-.94 2.06-2.06.94zm-11 1L8.5 8.5l.94-2.06 2.06-.94-2.06-.94L8.5 2.5l-.94 2.06-2.06.94zm10 10l.94 2.06.94-2.06 2.06-.94-2.06-.94-.94-2.06-.94 2.06-2.06.94z\"/><path d=\"M17.41 7.96l-1.37-1.37c-.4-.4-.92-.59-1.43-.59-.52 0-1.04.2-1.43.59L10.3 9.45l-7.72 7.72c-.78.78-.78 2.05 0 2.83L4 21.41c.39.39.9.59 1.41.59.51 0 1.02-.2 1.41-.59l7.78-7.78 2.81-2.81c.8-.78.8-2.07 0-2.86zM5.41 20L4 18.59l7.72-7.72 1.47 1.35L5.41 20z\"/>\n",
              "  </svg>\n",
              "      </button>\n",
              "      \n",
              "  <style>\n",
              "    .colab-df-container {\n",
              "      display:flex;\n",
              "      flex-wrap:wrap;\n",
              "      gap: 12px;\n",
              "    }\n",
              "\n",
              "    .colab-df-convert {\n",
              "      background-color: #E8F0FE;\n",
              "      border: none;\n",
              "      border-radius: 50%;\n",
              "      cursor: pointer;\n",
              "      display: none;\n",
              "      fill: #1967D2;\n",
              "      height: 32px;\n",
              "      padding: 0 0 0 0;\n",
              "      width: 32px;\n",
              "    }\n",
              "\n",
              "    .colab-df-convert:hover {\n",
              "      background-color: #E2EBFA;\n",
              "      box-shadow: 0px 1px 2px rgba(60, 64, 67, 0.3), 0px 1px 3px 1px rgba(60, 64, 67, 0.15);\n",
              "      fill: #174EA6;\n",
              "    }\n",
              "\n",
              "    [theme=dark] .colab-df-convert {\n",
              "      background-color: #3B4455;\n",
              "      fill: #D2E3FC;\n",
              "    }\n",
              "\n",
              "    [theme=dark] .colab-df-convert:hover {\n",
              "      background-color: #434B5C;\n",
              "      box-shadow: 0px 1px 3px 1px rgba(0, 0, 0, 0.15);\n",
              "      filter: drop-shadow(0px 1px 2px rgba(0, 0, 0, 0.3));\n",
              "      fill: #FFFFFF;\n",
              "    }\n",
              "  </style>\n",
              "\n",
              "      <script>\n",
              "        const buttonEl =\n",
              "          document.querySelector('#df-7d050674-7099-4f37-b520-d2a5ea5120dc button.colab-df-convert');\n",
              "        buttonEl.style.display =\n",
              "          google.colab.kernel.accessAllowed ? 'block' : 'none';\n",
              "\n",
              "        async function convertToInteractive(key) {\n",
              "          const element = document.querySelector('#df-7d050674-7099-4f37-b520-d2a5ea5120dc');\n",
              "          const dataTable =\n",
              "            await google.colab.kernel.invokeFunction('convertToInteractive',\n",
              "                                                     [key], {});\n",
              "          if (!dataTable) return;\n",
              "\n",
              "          const docLinkHtml = 'Like what you see? Visit the ' +\n",
              "            '<a target=\"_blank\" href=https://colab.research.google.com/notebooks/data_table.ipynb>data table notebook</a>'\n",
              "            + ' to learn more about interactive tables.';\n",
              "          element.innerHTML = '';\n",
              "          dataTable['output_type'] = 'display_data';\n",
              "          await google.colab.output.renderOutput(dataTable, element);\n",
              "          const docLink = document.createElement('div');\n",
              "          docLink.innerHTML = docLinkHtml;\n",
              "          element.appendChild(docLink);\n",
              "        }\n",
              "      </script>\n",
              "    </div>\n",
              "  </div>\n",
              "  "
            ]
          },
          "metadata": {},
          "execution_count": 7
        }
      ]
    },
    {
      "cell_type": "markdown",
      "source": [
        "We select open stock value"
      ],
      "metadata": {
        "id": "qSov5dq5m_IZ"
      }
    },
    {
      "cell_type": "code",
      "source": [
        "training_set = train.iloc[:,1:2].values\n",
        "training_set"
      ],
      "metadata": {
        "id": "kFnqfu55nBNP",
        "colab": {
          "base_uri": "https://localhost:8080/"
        },
        "outputId": "bc153a3a-3b6e-43dc-fd36-e4139880ec27"
      },
      "execution_count": null,
      "outputs": [
        {
          "output_type": "execute_result",
          "data": {
            "text/plain": [
              "array([[325.25],\n",
              "       [331.27],\n",
              "       [329.83],\n",
              "       ...,\n",
              "       [793.7 ],\n",
              "       [783.33],\n",
              "       [782.75]])"
            ]
          },
          "metadata": {},
          "execution_count": 9
        }
      ]
    },
    {
      "cell_type": "markdown",
      "source": [
        "## Preprocessing"
      ],
      "metadata": {
        "id": "JH0tWvcIuJrz"
      }
    },
    {
      "cell_type": "code",
      "source": [
        "from sklearn.preprocessing import MinMaxScaler"
      ],
      "metadata": {
        "id": "ytcM--LSuLGQ"
      },
      "execution_count": null,
      "outputs": []
    },
    {
      "cell_type": "code",
      "source": [
        "sc = MinMaxScaler(feature_range = (0,1))\n",
        "training_set_scaled = sc.fit_transform(training_set)"
      ],
      "metadata": {
        "id": "tv7127-1t2bb"
      },
      "execution_count": null,
      "outputs": []
    },
    {
      "cell_type": "code",
      "source": [
        "training_set_scaled.shape"
      ],
      "metadata": {
        "colab": {
          "base_uri": "https://localhost:8080/"
        },
        "id": "Zr9B_-pruPH5",
        "outputId": "26312d07-b8bd-4f48-f612-2c37d11b7666"
      },
      "execution_count": null,
      "outputs": [
        {
          "output_type": "execute_result",
          "data": {
            "text/plain": [
              "(1258, 1)"
            ]
          },
          "metadata": {},
          "execution_count": 13
        }
      ]
    },
    {
      "cell_type": "code",
      "source": [
        "xtrain = []\n",
        "ytrain = []\n",
        "for i in range(60, 1258):\n",
        "  xtrain.append(training_set_scaled[i-60:i,0])\n",
        "  ytrain.append(training_set_scaled[i,0])\n",
        "xtrain, ytrain = np.array(xtrain), np.array(ytrain)"
      ],
      "metadata": {
        "id": "mp-CUOH_uSzq"
      },
      "execution_count": null,
      "outputs": []
    },
    {
      "cell_type": "markdown",
      "source": [
        "Reshape xtrain to batch size(size inputs), timestep, input dimension"
      ],
      "metadata": {
        "id": "zVo3E1mfuoNh"
      }
    },
    {
      "cell_type": "code",
      "source": [
        "xtrain.shape"
      ],
      "metadata": {
        "colab": {
          "base_uri": "https://localhost:8080/"
        },
        "id": "CA0SpFCjuvGv",
        "outputId": "72063eda-2240-41ae-bb95-6d8efd22a437"
      },
      "execution_count": null,
      "outputs": [
        {
          "output_type": "execute_result",
          "data": {
            "text/plain": [
              "(1198, 60)"
            ]
          },
          "metadata": {},
          "execution_count": 15
        }
      ]
    },
    {
      "cell_type": "code",
      "source": [
        "xtrain = np.reshape(xtrain, (xtrain.shape[0], xtrain.shape[1],1))\n",
        "xtrain.shape"
      ],
      "metadata": {
        "colab": {
          "base_uri": "https://localhost:8080/"
        },
        "id": "-eF9vLqnuxba",
        "outputId": "33533366-8910-4e66-f29e-308898a16c4e"
      },
      "execution_count": null,
      "outputs": [
        {
          "output_type": "execute_result",
          "data": {
            "text/plain": [
              "(1198, 60, 1)"
            ]
          },
          "metadata": {},
          "execution_count": 16
        }
      ]
    },
    {
      "cell_type": "markdown",
      "source": [
        "## Deep learning RNN"
      ],
      "metadata": {
        "id": "NACDPZ0VmDFB"
      }
    },
    {
      "cell_type": "markdown",
      "source": [
        "Deep learning: building the RNN for predicting the stock price of google in the month of January 2017. RNN: all the LSTM layer + some Dropout regularisation. Dropout regularisation is used to avoid overfitting. The compiling process of the RNN was done follwing with the fitting of the training set. Predictions are visualised. "
      ],
      "metadata": {
        "id": "VKatkxozjSDt"
      }
    },
    {
      "cell_type": "code",
      "execution_count": null,
      "metadata": {
        "id": "vMrO1L_xiR6Z"
      },
      "outputs": [],
      "source": [
        "from keras.models import Sequential\n",
        "from keras.layers import Dense\n",
        "from keras.layers import LSTM\n",
        "from keras.layers import Dropout"
      ]
    },
    {
      "cell_type": "markdown",
      "source": [
        "Make object for sequence of layers"
      ],
      "metadata": {
        "id": "YLO2G18Xj7ik"
      }
    },
    {
      "cell_type": "code",
      "source": [
        "regressor = Sequential()"
      ],
      "metadata": {
        "id": "35h7gJHfj30c"
      },
      "execution_count": null,
      "outputs": []
    },
    {
      "cell_type": "markdown",
      "source": [
        "Add LSTM layer and Dropout regularisation"
      ],
      "metadata": {
        "id": "NaQELIioj-gG"
      }
    },
    {
      "cell_type": "markdown",
      "source": [
        "### Configuration 1"
      ],
      "metadata": {
        "id": "ZP6CUE60vJtC"
      }
    },
    {
      "cell_type": "code",
      "source": [
        "# LSTM Layer 1\n",
        "regressor.add(LSTM(units = 100, return_sequences=True, input_shape=(xtrain.shape[1],1)))\n",
        "regressor.add(Dropout(0.4)) # 40 % of 100 neurons will be dropped\n",
        "# LSTM Layer 2\n",
        "regressor.add(LSTM(units=100, return_sequences=True))\n",
        "regressor.add(Dropout(0.6))\n",
        "# LSTM Layer 3\n",
        "regressor.add(LSTM(units=100, return_sequences=True))\n",
        "regressor.add(Dropout(0.6))\n",
        "# LSTM Layer 4\n",
        "regressor.add(LSTM(units=100, return_sequences=True))\n",
        "regressor.add(Dropout(0.4))\n",
        "# Output layer\n",
        "regressor.add(Dense(units=1))\n",
        "regressor.compile(optimizer='adam', loss='mean_squared_error')"
      ],
      "metadata": {
        "id": "sWXQE6ZqkDiT"
      },
      "execution_count": null,
      "outputs": []
    },
    {
      "cell_type": "code",
      "source": [
        "%%capture \n",
        "regressor.fit(xtrain, ytrain, epochs=10, batch_size=32) # set epochs to 100"
      ],
      "metadata": {
        "id": "vXFRKXRhkN3z"
      },
      "execution_count": null,
      "outputs": []
    },
    {
      "cell_type": "code",
      "source": [
        "test = pd.read_csv(\"Google_Stock_Price_Test.csv\")\n",
        "real_stock_price = test.iloc[:,1:2].values\n",
        "total_data = pd.concat([train['Open'],test['Open']],axis=0)"
      ],
      "metadata": {
        "id": "6wC7QUy3wOTL"
      },
      "execution_count": null,
      "outputs": []
    },
    {
      "cell_type": "code",
      "source": [
        "total_data.head()"
      ],
      "metadata": {
        "colab": {
          "base_uri": "https://localhost:8080/"
        },
        "id": "CzICpN020d-V",
        "outputId": "fc59b7f1-25c4-4773-ff6e-909395ae9ad7"
      },
      "execution_count": null,
      "outputs": [
        {
          "output_type": "execute_result",
          "data": {
            "text/plain": [
              "0    325.25\n",
              "1    331.27\n",
              "2    329.83\n",
              "3    328.34\n",
              "4    322.04\n",
              "Name: Open, dtype: float64"
            ]
          },
          "metadata": {},
          "execution_count": 68
        }
      ]
    },
    {
      "cell_type": "code",
      "source": [
        "inputs=total_data[len(train)-len(test)-60:].values\n",
        "inputs=inputs.reshape(-1,1)\n",
        "inputs = sc.transform(inputs)"
      ],
      "metadata": {
        "id": "aY888emswyEv"
      },
      "execution_count": null,
      "outputs": []
    },
    {
      "cell_type": "code",
      "source": [
        "xtest=[]\n",
        "for i in range(60,80):\n",
        "    xtest.append(inputs[i-60:i,0])\n",
        "xtest=np.array(xtest)\n",
        "#xtest.shape\n",
        "xtest=np.reshape(xtest,(xtest.shape[0],xtest.shape[1],1))"
      ],
      "metadata": {
        "id": "Y7ydp7XEw6Re"
      },
      "execution_count": null,
      "outputs": []
    },
    {
      "cell_type": "code",
      "source": [
        "predicted_stock_price=regressor.predict(xtest)"
      ],
      "metadata": {
        "id": "TuusavsSw9-7"
      },
      "execution_count": null,
      "outputs": []
    },
    {
      "cell_type": "code",
      "source": [
        "predicted_stock_price.shape"
      ],
      "metadata": {
        "colab": {
          "base_uri": "https://localhost:8080/"
        },
        "id": "J21nNICHzMVx",
        "outputId": "51c9917e-9968-4491-ac39-706adf749e7e"
      },
      "execution_count": null,
      "outputs": [
        {
          "output_type": "execute_result",
          "data": {
            "text/plain": [
              "(20, 60, 1)"
            ]
          },
          "metadata": {},
          "execution_count": 89
        }
      ]
    },
    {
      "cell_type": "code",
      "source": [
        "predicted_stock_price"
      ],
      "metadata": {
        "colab": {
          "base_uri": "https://localhost:8080/"
        },
        "id": "t_NTsWmixv8Z",
        "outputId": "08b4b4d3-f7e7-4e24-aed7-61aec0a5979f"
      },
      "execution_count": null,
      "outputs": [
        {
          "output_type": "execute_result",
          "data": {
            "text/plain": [
              "array([[[0.35361928],\n",
              "        [0.47329906],\n",
              "        [0.52186114],\n",
              "        ...,\n",
              "        [0.52556694],\n",
              "        [0.5255707 ],\n",
              "        [0.52557504]],\n",
              "\n",
              "       [[0.35360223],\n",
              "        [0.47324967],\n",
              "        [0.521824  ],\n",
              "        ...,\n",
              "        [0.5255709 ],\n",
              "        [0.5255752 ],\n",
              "        [0.5255564 ]],\n",
              "\n",
              "       [[0.3535721 ],\n",
              "        [0.47322583],\n",
              "        [0.52181125],\n",
              "        ...,\n",
              "        [0.5255756 ],\n",
              "        [0.5255566 ],\n",
              "        [0.5255533 ]],\n",
              "\n",
              "       ...,\n",
              "\n",
              "       [[0.35361058],\n",
              "        [0.47329786],\n",
              "        [0.5219073 ],\n",
              "        ...,\n",
              "        [0.52601916],\n",
              "        [0.52610624],\n",
              "        [0.5261965 ]],\n",
              "\n",
              "       [[0.35361412],\n",
              "        [0.4733085 ],\n",
              "        [0.5219181 ],\n",
              "        ...,\n",
              "        [0.52610654],\n",
              "        [0.5261967 ],\n",
              "        [0.52628636]],\n",
              "\n",
              "       [[0.35362074],\n",
              "        [0.47331676],\n",
              "        [0.5219245 ],\n",
              "        ...,\n",
              "        [0.526197  ],\n",
              "        [0.5262866 ],\n",
              "        [0.526349  ]]], dtype=float32)"
            ]
          },
          "metadata": {},
          "execution_count": 90
        }
      ]
    },
    {
      "cell_type": "code",
      "source": [
        "nsamples, nx, ny = predicted_stock_price.shape\n",
        "predicted_stock_price = predicted_stock_price.reshape((nsamples,nx*ny))"
      ],
      "metadata": {
        "id": "wtcXA3qHytd_"
      },
      "execution_count": null,
      "outputs": []
    },
    {
      "cell_type": "code",
      "source": [
        "predicted_stock_price = sc.inverse_transform(predicted_stock_price)"
      ],
      "metadata": {
        "id": "vNIF3Hnmxj6P"
      },
      "execution_count": null,
      "outputs": []
    },
    {
      "cell_type": "code",
      "source": [
        "predicted_stock_price.shape"
      ],
      "metadata": {
        "colab": {
          "base_uri": "https://localhost:8080/"
        },
        "id": "JXHQOsvtzV9n",
        "outputId": "cb2733b4-3caa-4ea5-fa73-bb233412fc9d"
      },
      "execution_count": null,
      "outputs": [
        {
          "output_type": "execute_result",
          "data": {
            "text/plain": [
              "(20, 60)"
            ]
          },
          "metadata": {},
          "execution_count": 93
        }
      ]
    },
    {
      "cell_type": "code",
      "source": [
        "predicted_stock_price[:,1]"
      ],
      "metadata": {
        "colab": {
          "base_uri": "https://localhost:8080/"
        },
        "id": "UqrRId4ezr7P",
        "outputId": "e92557db-1f37-4c41-b6fc-d80ffd9899d0"
      },
      "execution_count": null,
      "outputs": [
        {
          "output_type": "execute_result",
          "data": {
            "text/plain": [
              "array([533.54663, 533.5201 , 533.50726, 533.51624, 533.51227, 533.52356,\n",
              "       533.536  , 533.5366 , 533.5352 , 533.5475 , 533.56433, 533.57025,\n",
              "       533.5578 , 533.5495 , 533.5564 , 533.5567 , 533.54736, 533.546  ,\n",
              "       533.5517 , 533.55615], dtype=float32)"
            ]
          },
          "metadata": {},
          "execution_count": 94
        }
      ]
    },
    {
      "cell_type": "code",
      "source": [
        "predicted_stock_price[1,:]"
      ],
      "metadata": {
        "colab": {
          "base_uri": "https://localhost:8080/"
        },
        "id": "daOF8-Gt0zH3",
        "outputId": "6cd675a9-d1d5-493d-eca1-15b9fcddfec0"
      },
      "execution_count": null,
      "outputs": [
        {
          "output_type": "execute_result",
          "data": {
            "text/plain": [
              "array([469.20242, 533.5201 , 559.6317 , 566.201  , 564.5408 , 560.68964,\n",
              "       557.41254, 555.6244 , 555.31274, 556.08093, 557.4454 , 558.97925,\n",
              "       560.3817 , 561.4987 , 562.2865 , 562.7591 , 562.96875, 562.9872 ,\n",
              "       562.88513, 562.71704, 562.52277, 562.3279 , 562.1587 , 562.02094,\n",
              "       561.9122 , 561.8323 , 561.7793 , 561.75806, 561.7713 , 561.8084 ,\n",
              "       561.844  , 561.8773 , 561.9181 , 561.95306, 561.9749 , 561.99677,\n",
              "       562.01514, 562.0238 , 562.0285 , 562.0304 , 562.0223 , 562.0324 ,\n",
              "       562.0649 , 562.0929 , 562.1032 , 562.0557 , 561.96246, 561.85175,\n",
              "       561.76227, 561.7184 , 561.71326, 561.7154 , 561.7167 , 561.70795,\n",
              "       561.68713, 561.65875, 561.644  , 561.64594, 561.6482 , 561.6381 ],\n",
              "      dtype=float32)"
            ]
          },
          "metadata": {},
          "execution_count": 95
        }
      ]
    },
    {
      "cell_type": "code",
      "source": [
        "predicted_stock_price=predicted_stock_price[1,:]"
      ],
      "metadata": {
        "id": "iFTJahSuy3I4"
      },
      "execution_count": null,
      "outputs": []
    },
    {
      "cell_type": "markdown",
      "source": [
        "### Show Stock Price"
      ],
      "metadata": {
        "id": "DV7L1CT2xS-H"
      }
    },
    {
      "cell_type": "code",
      "source": [
        "plt.rcParams[\"figure.figsize\"] = (12,8)\n",
        "plt.plot(predicted_stock_price,color='red',label='Predicted Stock Price')\n",
        "plt.plot(real_stock_price,color='blue',label='Real Stock Price')\n",
        "plt.title('Google Stock Price Prediction')\n",
        "plt.xlabel('Time')\n",
        "plt.ylabel('Stock Price')\n",
        "plt.legend()\n",
        "plt.show()"
      ],
      "metadata": {
        "colab": {
          "base_uri": "https://localhost:8080/",
          "height": 456
        },
        "id": "r5OjOsOqxHP5",
        "outputId": "8ff3ea54-96b5-4aff-8f1f-9bbb7bbb95b0"
      },
      "execution_count": null,
      "outputs": [
        {
          "output_type": "display_data",
          "data": {
            "text/plain": [
              "<Figure size 864x576 with 1 Axes>"
            ],
            "image/png": "[encoded data removed]"
          },
          "metadata": {
            "needs_background": "light"
          }
        }
      ]
    },
    {
      "cell_type": "code",
      "source": [
        ""
      ],
      "metadata": {
        "id": "7OZsmQb-1KhD"
      },
      "execution_count": null,
      "outputs": []
    },
    {
      "cell_type": "markdown",
      "source": [
        "## Configuration 2"
      ],
      "metadata": {
        "id": "IY5BbWel_tCy"
      }
    },
    {
      "cell_type": "code",
      "source": [
        "regressor2 = Sequential()\n",
        "# LSTM Layer 1\n",
        "regressor2.add(LSTM(units = 50, return_sequences=True, input_shape=(xtrain.shape[1],1)))\n",
        "regressor2.add(Dropout(0.2)) # 20 % of 50 neurons will be dropped\n",
        "# LSTM Layer 2\n",
        "regressor2.add(LSTM(units=50, return_sequences=True))\n",
        "regressor2.add(Dropout(0.2))\n",
        "# LSTM Layer 3\n",
        "regressor2.add(LSTM(units=50, return_sequences=True))\n",
        "regressor2.add(Dropout(0.2))\n",
        "# LSTM Layer 4\n",
        "regressor2.add(LSTM(units=50, return_sequences=True))\n",
        "regressor2.add(Dropout(0.2))\n",
        "# Output layer\n",
        "regressor2.add(Dense(units=1))\n",
        "regressor2.compile(optimizer='adam', loss='mean_squared_error')"
      ],
      "metadata": {
        "id": "stD9EyZW_1Pm"
      },
      "execution_count": null,
      "outputs": []
    },
    {
      "cell_type": "code",
      "source": [
        "%%capture \n",
        "regressor2.fit(xtrain, ytrain, epochs=10, batch_size=32) # set epochs to 100"
      ],
      "metadata": {
        "id": "FtkRI_9lAMlI"
      },
      "execution_count": null,
      "outputs": []
    },
    {
      "cell_type": "code",
      "source": [
        "test = pd.read_csv(\"Google_Stock_Price_Test.csv\")\n",
        "real_stock_price = test.iloc[:,1:2].values\n",
        "total_data = pd.concat([train['Open'],test['Open']],axis=0)\n",
        "inputs=total_data[len(train)-len(test)-60:].values\n",
        "inputs=inputs.reshape(-1,1)\n",
        "inputs = sc.transform(inputs)\n",
        "xtest=[]\n",
        "for i in range(60,80):\n",
        "    xtest.append(inputs[i-60:i,0])\n",
        "xtest=np.array(xtest)\n",
        "#xtest.shape\n",
        "xtest=np.reshape(xtest,(xtest.shape[0],xtest.shape[1],1))"
      ],
      "metadata": {
        "id": "3wuqC6prAa5r"
      },
      "execution_count": null,
      "outputs": []
    },
    {
      "cell_type": "code",
      "source": [
        "predicted_stock_price2=regressor2.predict(xtest)"
      ],
      "metadata": {
        "id": "xTXs058BA8QP"
      },
      "execution_count": null,
      "outputs": []
    },
    {
      "cell_type": "code",
      "source": [
        "nsamples, nx, ny = predicted_stock_price2.shape\n",
        "predicted_stock_price2 = predicted_stock_price2.reshape((nsamples,nx*ny))\n",
        "predicted_stock_price2 = sc.inverse_transform(predicted_stock_price2)\n",
        "predicted_stock_price2=predicted_stock_price2[1,:]"
      ],
      "metadata": {
        "id": "tzta1ncHBAfe"
      },
      "execution_count": null,
      "outputs": []
    },
    {
      "cell_type": "code",
      "source": [
        "plt.rcParams[\"figure.figsize\"] = (12,8)\n",
        "plt.plot(predicted_stock_price2,color='red',label='Predicted Stock Price')\n",
        "plt.plot(real_stock_price,color='blue',label='Real Stock Price')\n",
        "plt.title('Google Stock Price Prediction')\n",
        "plt.xlabel('Time')\n",
        "plt.ylabel('Stock Price')\n",
        "plt.legend()\n",
        "plt.show()"
      ],
      "metadata": {
        "colab": {
          "base_uri": "https://localhost:8080/",
          "height": 456
        },
        "id": "y7rvoBUZBXXb",
        "outputId": "54dc13c0-c922-41cd-82ba-72e8165451a9"
      },
      "execution_count": null,
      "outputs": [
        {
          "output_type": "display_data",
          "data": {
            "text/plain": [
              "<Figure size 864x576 with 1 Axes>"
            ],
            "image/png": "[encoded data removed]"
          },
          "metadata": {
            "needs_background": "light"
          }
        }
      ]
    },
    {
      "cell_type": "markdown",
      "source": [
        "NOTE: something went wrong in the reverse transformation of the min max scaler."
      ],
      "metadata": {
        "id": "g6A4vPcYBa1i"
      }
    }
  ]
}