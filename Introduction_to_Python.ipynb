{
  "nbformat": 4,
  "nbformat_minor": 0,
  "metadata": {
    "colab": {
      "name": "Introduction to Python.ipynb",
      "provenance": [],
      "collapsed_sections": [],
      "authorship_tag": "ABX9TyO6fyhuXVNHd4n22WTNrkj+",
      "include_colab_link": true
    },
    "kernelspec": {
      "name": "python3",
      "display_name": "Python 3"
    }
  },
  "cells": [
    {
      "cell_type": "markdown",
      "metadata": {
        "id": "view-in-github",
        "colab_type": "text"
      },
      "source": [
        "<a href=\"https://colab.research.google.com/github/yForecasting/intro_python/blob/main/Introduction_to_Python.ipynb\" target=\"_parent\"><img src=\"https://colab.research.google.com/assets/colab-badge.svg\" alt=\"Open In Colab\"/></a>"
      ]
    },
    {
      "cell_type": "markdown",
      "metadata": {
        "id": "dPRLUTJxS2J5"
      },
      "source": [
        "# Introduction to Python"
      ]
    },
    {
      "cell_type": "markdown",
      "metadata": {
        "id": "lg60i_OBTBme"
      },
      "source": [
        "## Variables"
      ]
    },
    {
      "cell_type": "code",
      "metadata": {
        "colab": {
          "base_uri": "https://localhost:8080/"
        },
        "id": "thy4-9AiSxas",
        "outputId": "83973880-26b6-4eab-ad0c-e78c6247d2a4"
      },
      "source": [
        "x = 3\r\n",
        "print(x)"
      ],
      "execution_count": 1,
      "outputs": [
        {
          "output_type": "stream",
          "text": [
            "3\n"
          ],
          "name": "stdout"
        }
      ]
    },
    {
      "cell_type": "code",
      "metadata": {
        "colab": {
          "base_uri": "https://localhost:8080/"
        },
        "id": "nitsAx3sT-He",
        "outputId": "04f9a9fe-6460-4ab2-ae21-bf286bd851cd"
      },
      "source": [
        "print(x + 1)   # Addition\r\n",
        "print(x - 1)   # Subtraction\r\n",
        "print(x * 2)   # Multiplication\r\n",
        "print(x ** 2)  # Exponentiation"
      ],
      "execution_count": 2,
      "outputs": [
        {
          "output_type": "stream",
          "text": [
            "4\n",
            "2\n",
            "6\n",
            "9\n"
          ],
          "name": "stdout"
        }
      ]
    },
    {
      "cell_type": "code",
      "metadata": {
        "colab": {
          "base_uri": "https://localhost:8080/"
        },
        "id": "RHgW_91eUA1M",
        "outputId": "e845de4e-8922-4964-c822-99022b8caffc"
      },
      "source": [
        "x += 1\r\n",
        "print(x)\r\n",
        "x *= 2\r\n",
        "print(x)"
      ],
      "execution_count": 3,
      "outputs": [
        {
          "output_type": "stream",
          "text": [
            "4\n",
            "8\n"
          ],
          "name": "stdout"
        }
      ]
    },
    {
      "cell_type": "code",
      "metadata": {
        "colab": {
          "base_uri": "https://localhost:8080/"
        },
        "id": "Gq8Id-KjUJ-H",
        "outputId": "4be404c6-6755-427a-c3de-69fe234d3bfc"
      },
      "source": [
        "hello = 'hello'   # String literals can use single quotes\r\n",
        "world = \"world\"   # or double quotes; it does not matter\r\n",
        "print(hello, len(hello))"
      ],
      "execution_count": 4,
      "outputs": [
        {
          "output_type": "stream",
          "text": [
            "hello 5\n"
          ],
          "name": "stdout"
        }
      ]
    },
    {
      "cell_type": "code",
      "metadata": {
        "colab": {
          "base_uri": "https://localhost:8080/"
        },
        "id": "7prSHOaBUODc",
        "outputId": "c3af6057-4057-4a67-f161-a4f6a971b32a"
      },
      "source": [
        "x = hello + ' ' + world  # String concatenation\r\n",
        "print(x) # Dynamic type casting, x can change type when required"
      ],
      "execution_count": 5,
      "outputs": [
        {
          "output_type": "stream",
          "text": [
            "hello world\n"
          ],
          "name": "stdout"
        }
      ]
    },
    {
      "cell_type": "code",
      "metadata": {
        "colab": {
          "base_uri": "https://localhost:8080/"
        },
        "id": "huJEwbbZUacN",
        "outputId": "6b5bd33b-c120-4551-e2bc-b81056aa49de"
      },
      "source": [
        "s = \"hello\"\r\n",
        "print(s.capitalize())  # Capitalize a string\r\n",
        "print(s.upper())       # Convert a string to uppercase; prints \"HELLO\"\r\n",
        "print(s.rjust(7))      # Right-justify a string, padding with spaces\r\n",
        "print(s.center(7))     # Center a string, padding with spaces\r\n",
        "print(s.replace('l', '(ell)'))  # Replace all instances of one substring with another\r\n",
        "print('  world '.strip())  # Strip leading and trailing whitespace"
      ],
      "execution_count": 6,
      "outputs": [
        {
          "output_type": "stream",
          "text": [
            "Hello\n",
            "HELLO\n",
            "  hello\n",
            " hello \n",
            "he(ell)(ell)o\n",
            "world\n"
          ],
          "name": "stdout"
        }
      ]
    },
    {
      "cell_type": "markdown",
      "metadata": {
        "id": "lyZIgqzvUjx8"
      },
      "source": [
        "## Lists"
      ]
    },
    {
      "cell_type": "code",
      "metadata": {
        "colab": {
          "base_uri": "https://localhost:8080/"
        },
        "id": "00y3Lp_oUm1B",
        "outputId": "64b1ed26-fdad-41ff-80e0-35881bb588e0"
      },
      "source": [
        "xs = [3, 1, 2]   # Create a list\r\n",
        "print(xs, xs[2])\r\n",
        "print(xs[-1])     # Negative indices count from the end of the list; prints \"2\""
      ],
      "execution_count": 7,
      "outputs": [
        {
          "output_type": "stream",
          "text": [
            "[3, 1, 2] 2\n",
            "2\n"
          ],
          "name": "stdout"
        }
      ]
    },
    {
      "cell_type": "code",
      "metadata": {
        "colab": {
          "base_uri": "https://localhost:8080/"
        },
        "id": "nOR72XFzUq-J",
        "outputId": "0e5e3a5e-5521-459e-eade-320211397f41"
      },
      "source": [
        "xs[2] = 'Belgium'    # Lists can contain elements of different types\r\n",
        "print(xs)"
      ],
      "execution_count": 8,
      "outputs": [
        {
          "output_type": "stream",
          "text": [
            "[3, 1, 'Belgium']\n"
          ],
          "name": "stdout"
        }
      ]
    },
    {
      "cell_type": "code",
      "metadata": {
        "colab": {
          "base_uri": "https://localhost:8080/"
        },
        "id": "cvtLRMh6Us5W",
        "outputId": "8ed56ee9-2a1f-4cc1-f362-a097c20bfbb0"
      },
      "source": [
        "xs.append('Chocolate') # Add a new element to the end of the list\r\n",
        "print(xs)  "
      ],
      "execution_count": 9,
      "outputs": [
        {
          "output_type": "stream",
          "text": [
            "[3, 1, 'Belgium', 'Chocolate']\n"
          ],
          "name": "stdout"
        }
      ]
    },
    {
      "cell_type": "code",
      "metadata": {
        "colab": {
          "base_uri": "https://localhost:8080/"
        },
        "id": "FXx1Hm1VUumr",
        "outputId": "91e93928-29c6-4cc0-8457-1f6c155972ee"
      },
      "source": [
        "x = xs.pop()     # Remove and return the last element of the list\r\n",
        "print(x, xs)"
      ],
      "execution_count": 10,
      "outputs": [
        {
          "output_type": "stream",
          "text": [
            "Chocolate [3, 1, 'Belgium']\n"
          ],
          "name": "stdout"
        }
      ]
    },
    {
      "cell_type": "markdown",
      "metadata": {
        "id": "USY5D1SyTEyE"
      },
      "source": [
        "## Loops"
      ]
    },
    {
      "cell_type": "markdown",
      "metadata": {
        "id": "KLAcQiVQTNKh"
      },
      "source": [
        "### For - loop"
      ]
    },
    {
      "cell_type": "code",
      "metadata": {
        "colab": {
          "base_uri": "https://localhost:8080/"
        },
        "id": "q-f-DT5FTGzd",
        "outputId": "6f1b82a9-d820-4426-ef01-257f4a27c640"
      },
      "source": [
        "for i in range(1,5):\r\n",
        "  print(i)"
      ],
      "execution_count": 11,
      "outputs": [
        {
          "output_type": "stream",
          "text": [
            "1\n",
            "2\n",
            "3\n",
            "4\n"
          ],
          "name": "stdout"
        }
      ]
    },
    {
      "cell_type": "code",
      "metadata": {
        "colab": {
          "base_uri": "https://localhost:8080/"
        },
        "id": "2jK_v5zbU45w",
        "outputId": "8de866b9-fbd1-4445-be23-ab028d2abd98"
      },
      "source": [
        "# Loop over numbers or items\r\n",
        "animals = ['cat', 'dog', 'monkey'] \r\n",
        "for animal in animals:\r\n",
        "    print(animal)"
      ],
      "execution_count": 12,
      "outputs": [
        {
          "output_type": "stream",
          "text": [
            "cat\n",
            "dog\n",
            "monkey\n"
          ],
          "name": "stdout"
        }
      ]
    },
    {
      "cell_type": "code",
      "metadata": {
        "colab": {
          "base_uri": "https://localhost:8080/"
        },
        "id": "yQy7EvpEVt7W",
        "outputId": "7bbaaf4e-cc75-400a-c175-83130e6f1222"
      },
      "source": [
        "# Alternative way of printing output\r\n",
        "animals = ['cat', 'dog', 'monkey'] \r\n",
        "for animal in animals:\r\n",
        "    print('The animal is a {}'.format(animal))"
      ],
      "execution_count": 13,
      "outputs": [
        {
          "output_type": "stream",
          "text": [
            "The animal is a cat\n",
            "The animal is a dog\n",
            "The animal is a monkey\n"
          ],
          "name": "stdout"
        }
      ]
    },
    {
      "cell_type": "markdown",
      "metadata": {
        "id": "ZZQxIGJmTQUG"
      },
      "source": [
        "### While - loop"
      ]
    },
    {
      "cell_type": "code",
      "metadata": {
        "colab": {
          "base_uri": "https://localhost:8080/"
        },
        "id": "sVNoFEJZTa6I",
        "outputId": "844db4d5-72a1-471e-fc13-eed84edbeece"
      },
      "source": [
        "i=1 \r\n",
        "while i<5:\r\n",
        "  print(i)\r\n",
        "  i+=1"
      ],
      "execution_count": 14,
      "outputs": [
        {
          "output_type": "stream",
          "text": [
            "1\n",
            "2\n",
            "3\n",
            "4\n"
          ],
          "name": "stdout"
        }
      ]
    },
    {
      "cell_type": "markdown",
      "metadata": {
        "id": "JF0ciUXsTHGD"
      },
      "source": [
        "# Conditional statements"
      ]
    },
    {
      "cell_type": "code",
      "metadata": {
        "colab": {
          "base_uri": "https://localhost:8080/"
        },
        "id": "DUEXdFpuTKxY",
        "outputId": "5f22b9d2-7b88-438b-bd87-d50698b0b28e"
      },
      "source": [
        "i=15\r\n",
        "if i>5:\r\n",
        "  print(\"Number is bigger than 5\")\r\n",
        "else:\r\n",
        "  print(\"Number is smaller or equal to 5\")"
      ],
      "execution_count": 15,
      "outputs": [
        {
          "output_type": "stream",
          "text": [
            "Number is bigger than 5\n"
          ],
          "name": "stdout"
        }
      ]
    },
    {
      "cell_type": "code",
      "metadata": {
        "colab": {
          "base_uri": "https://localhost:8080/"
        },
        "id": "mIqwDf7rWZC_",
        "outputId": "eb31a457-bd16-4794-c5cb-5dd04ab0e9d9"
      },
      "source": [
        "uno=1\r\n",
        "duo=2\r\n",
        "if uno>0 and duo>0:\r\n",
        "  print(\"Both numbers are positive\")\r\n",
        "else:\r\n",
        "  print(\"Not both numbers are positive\")"
      ],
      "execution_count": 16,
      "outputs": [
        {
          "output_type": "stream",
          "text": [
            "Both numbers are positive\n"
          ],
          "name": "stdout"
        }
      ]
    },
    {
      "cell_type": "code",
      "metadata": {
        "colab": {
          "base_uri": "https://localhost:8080/"
        },
        "id": "GbJq0lZjzTer",
        "outputId": "b8e66721-0557-4170-d78c-760dea5888fe"
      },
      "source": [
        "numbers = range(0,11)\r\n",
        "for i in numbers:\r\n",
        "  print(i)"
      ],
      "execution_count": 18,
      "outputs": [
        {
          "output_type": "stream",
          "text": [
            "0\n",
            "1\n",
            "2\n",
            "3\n",
            "4\n",
            "5\n",
            "6\n",
            "7\n",
            "8\n",
            "9\n",
            "10\n"
          ],
          "name": "stdout"
        }
      ]
    },
    {
      "cell_type": "code",
      "metadata": {
        "colab": {
          "base_uri": "https://localhost:8080/"
        },
        "id": "CEUNajJ3zkDq",
        "outputId": "44617ba6-4df1-45e0-fc43-6a1ebdda080e"
      },
      "source": [
        "for i in numbers:\r\n",
        "  if i%2==0:\r\n",
        "    print(\"Number {} is an even number.\".format(i))"
      ],
      "execution_count": 20,
      "outputs": [
        {
          "output_type": "stream",
          "text": [
            "Number 0 is an even number.\n",
            "Number 2 is an even number.\n",
            "Number 4 is an even number.\n",
            "Number 6 is an even number.\n",
            "Number 8 is an even number.\n",
            "Number 10 is an even number.\n"
          ],
          "name": "stdout"
        }
      ]
    },
    {
      "cell_type": "markdown",
      "metadata": {
        "id": "D4J5xnITT35Q"
      },
      "source": [
        "## Functions"
      ]
    },
    {
      "cell_type": "code",
      "metadata": {
        "colab": {
          "base_uri": "https://localhost:8080/"
        },
        "id": "dF2x7bb1T5Se",
        "outputId": "c0ec9486-9883-417e-a53f-5b1536de8443"
      },
      "source": [
        "def sign(x):\r\n",
        "    if x > 0:\r\n",
        "        return 'positive'\r\n",
        "    elif x < 0:\r\n",
        "        return 'negative'\r\n",
        "    else:\r\n",
        "        return 'zero'\r\n",
        "\r\n",
        "for x in [-1, 0, 1]:\r\n",
        "    print(sign(x))"
      ],
      "execution_count": 21,
      "outputs": [
        {
          "output_type": "stream",
          "text": [
            "negative\n",
            "zero\n",
            "positive\n"
          ],
          "name": "stdout"
        }
      ]
    },
    {
      "cell_type": "code",
      "metadata": {
        "colab": {
          "base_uri": "https://localhost:8080/"
        },
        "id": "UNHXMWqvVJf1",
        "outputId": "0c3f059d-dd5d-49ec-e016-2a4e8651cf58"
      },
      "source": [
        "def hello(name, loud=False):\r\n",
        "    if loud:\r\n",
        "        print('HELLO, {}'.format(name.upper()))\r\n",
        "    else:\r\n",
        "        print('Hello, {}!'.format(name))\r\n",
        "\r\n",
        "hello('James')\r\n",
        "hello('Toby', loud=True)"
      ],
      "execution_count": 22,
      "outputs": [
        {
          "output_type": "stream",
          "text": [
            "Hello, James!\n",
            "HELLO, TOBY\n"
          ],
          "name": "stdout"
        }
      ]
    },
    {
      "cell_type": "code",
      "metadata": {
        "colab": {
          "base_uri": "https://localhost:8080/"
        },
        "id": "O-NSlpxuXHDw",
        "outputId": "787df218-6059-496c-8da4-07262eb3b622"
      },
      "source": [
        "def show_matrix(mylist):\r\n",
        "    res=\"\"\r\n",
        "    for row in mylist:\r\n",
        "      for col in row:\r\n",
        "          res += col\r\n",
        "      res += \"\\n\"\r\n",
        "    return(res)\r\n",
        "\r\n",
        "print(show_matrix([\"xxx\",\"ooo\",\"xxx\"]))"
      ],
      "execution_count": 23,
      "outputs": [
        {
          "output_type": "stream",
          "text": [
            "xxx\n",
            "ooo\n",
            "xxx\n",
            "\n"
          ],
          "name": "stdout"
        }
      ]
    },
    {
      "cell_type": "markdown",
      "metadata": {
        "id": "bRhraEH0TLAg"
      },
      "source": [
        "## Classes\r\n"
      ]
    },
    {
      "cell_type": "code",
      "metadata": {
        "colab": {
          "base_uri": "https://localhost:8080/"
        },
        "id": "6sAYhZ39T54b",
        "outputId": "f01f7cde-f293-4898-8856-a8fa52697ffd"
      },
      "source": [
        "class Greeter:\r\n",
        "\r\n",
        "    # Constructor\r\n",
        "    def __init__(self, name):\r\n",
        "        self.name = name  # Create an instance variable\r\n",
        "\r\n",
        "    # Instance method\r\n",
        "    def greet(self, loud=False):\r\n",
        "        if loud:\r\n",
        "          print('HELLO, {}'.format(self.name.upper()))\r\n",
        "        else:\r\n",
        "          print('Hello, {}!'.format(self.name))\r\n",
        "\r\n",
        "g = Greeter('Toby')  # Construct an instance of the Greeter class\r\n",
        "g.greet()            # Call an instance method; prints \"Hello, Toby\"\r\n",
        "g.greet(loud=True)   # Call an instance method; prints \"HELLO, TOBY!\""
      ],
      "execution_count": 24,
      "outputs": [
        {
          "output_type": "stream",
          "text": [
            "Hello, Toby!\n",
            "HELLO, TOBY\n"
          ],
          "name": "stdout"
        }
      ]
    },
    {
      "cell_type": "code",
      "metadata": {
        "id": "jLcSbY6kz9vF"
      },
      "source": [
        ""
      ],
      "execution_count": null,
      "outputs": []
    }
  ]
}